{
 "cells": [
  {
   "cell_type": "markdown",
   "metadata": {},
   "source": [
    "# Imports"
   ]
  },
  {
   "cell_type": "code",
   "execution_count": 1,
   "metadata": {},
   "outputs": [],
   "source": [
    "from src.repositories.embrapa.embrapa import Embrapa"
   ]
  },
  {
   "cell_type": "markdown",
   "metadata": {},
   "source": [
    "# Classes"
   ]
  },
  {
   "cell_type": "markdown",
   "metadata": {},
   "source": [
    "## Embrapa"
   ]
  },
  {
   "cell_type": "code",
   "execution_count": 2,
   "metadata": {},
   "outputs": [],
   "source": [
    "ebp = Embrapa()"
   ]
  },
  {
   "cell_type": "markdown",
   "metadata": {},
   "source": [
    "### Producao"
   ]
  },
  {
   "cell_type": "code",
   "execution_count": 4,
   "metadata": {},
   "outputs": [
    {
     "data": {
      "text/html": [
       "<div>\n",
       "<style scoped>\n",
       "    .dataframe tbody tr th:only-of-type {\n",
       "        vertical-align: middle;\n",
       "    }\n",
       "\n",
       "    .dataframe tbody tr th {\n",
       "        vertical-align: top;\n",
       "    }\n",
       "\n",
       "    .dataframe thead th {\n",
       "        text-align: right;\n",
       "    }\n",
       "</style>\n",
       "<table border=\"1\" class=\"dataframe\">\n",
       "  <thead>\n",
       "    <tr style=\"text-align: right;\">\n",
       "      <th></th>\n",
       "      <th>product</th>\n",
       "      <th>liters</th>\n",
       "      <th>group</th>\n",
       "      <th>year</th>\n",
       "    </tr>\n",
       "  </thead>\n",
       "  <tbody>\n",
       "    <tr>\n",
       "      <th>1</th>\n",
       "      <td>tinto</td>\n",
       "      <td>174224052.0</td>\n",
       "      <td>vinho_de_mesa</td>\n",
       "      <td>1970</td>\n",
       "    </tr>\n",
       "    <tr>\n",
       "      <th>2</th>\n",
       "      <td>branco</td>\n",
       "      <td>748400.0</td>\n",
       "      <td>vinho_de_mesa</td>\n",
       "      <td>1970</td>\n",
       "    </tr>\n",
       "    <tr>\n",
       "      <th>3</th>\n",
       "      <td>rosado</td>\n",
       "      <td>42236152.0</td>\n",
       "      <td>vinho_de_mesa</td>\n",
       "      <td>1970</td>\n",
       "    </tr>\n",
       "    <tr>\n",
       "      <th>5</th>\n",
       "      <td>tinto</td>\n",
       "      <td>7591557.0</td>\n",
       "      <td>vinho_fino_de_mesa_vinifera</td>\n",
       "      <td>1970</td>\n",
       "    </tr>\n",
       "    <tr>\n",
       "      <th>6</th>\n",
       "      <td>branco</td>\n",
       "      <td>15562889.0</td>\n",
       "      <td>vinho_fino_de_mesa_vinifera</td>\n",
       "      <td>1970</td>\n",
       "    </tr>\n",
       "  </tbody>\n",
       "</table>\n",
       "</div>"
      ],
      "text/plain": [
       "  product       liters                        group  year\n",
       "1   tinto  174224052.0                vinho_de_mesa  1970\n",
       "2  branco     748400.0                vinho_de_mesa  1970\n",
       "3  rosado   42236152.0                vinho_de_mesa  1970\n",
       "5   tinto    7591557.0  vinho_fino_de_mesa_vinifera  1970\n",
       "6  branco   15562889.0  vinho_fino_de_mesa_vinifera  1970"
      ]
     },
     "execution_count": 4,
     "metadata": {},
     "output_type": "execute_result"
    }
   ],
   "source": [
    "df1=ebp.get_producao_df()\n",
    "df1.head(5)"
   ]
  },
  {
   "cell_type": "code",
   "execution_count": 11,
   "metadata": {},
   "outputs": [
    {
     "data": {
      "text/plain": [
       "array(['tinto', 'branco', 'rosado', 'suco_de_uva_integral',\n",
       "       'suco_de_uva_concentrado', 'suco_de_uva_adocado',\n",
       "       'suco_de_uva_organico', 'suco_de_uva_reconstituido', 'espumante',\n",
       "       'espumante_moscatel', 'base_espumante', 'base_espumante_moscatel',\n",
       "       'base_champenoise_champanha', 'base_charmat_champanha',\n",
       "       'bebida_de_uva', 'polpa_de_uva', 'mosto_simples',\n",
       "       'mosto_concentrado', 'mosto_de_uva_com_bagaco',\n",
       "       'mosto_dessulfitado', 'mistelas', 'nectar_de_uva', 'licorosos',\n",
       "       'compostos', 'jeropiga', 'filtrado', 'frisante', 'vinho_leve',\n",
       "       'vinho_licoroso', 'brandy', 'destilado', 'bagaceira',\n",
       "       'licor_de_bagaceira', 'vinagre', 'borra_liquida', 'borra_seca',\n",
       "       'vinho_composto', 'pisco', 'vinho_organico', 'espumante_organico',\n",
       "       'destilado_alcoolico_simples_de_bagaceira', 'vinho_acidificado',\n",
       "       'mosto_parcialmente_fermentado', 'outros_derivados'], dtype=object)"
      ]
     },
     "execution_count": 11,
     "metadata": {},
     "output_type": "execute_result"
    }
   ],
   "source": [
    "df1['product'].unique()"
   ]
  },
  {
   "cell_type": "code",
   "execution_count": 12,
   "metadata": {},
   "outputs": [
    {
     "data": {
      "text/plain": [
       "array(['vinho_de_mesa', 'vinho_fino_de_mesa_vinifera', 'suco',\n",
       "       'derivados'], dtype=object)"
      ]
     },
     "execution_count": 12,
     "metadata": {},
     "output_type": "execute_result"
    }
   ],
   "source": [
    "df1['group'].unique()"
   ]
  },
  {
   "cell_type": "markdown",
   "metadata": {},
   "source": [
    "### Processamento"
   ]
  },
  {
   "cell_type": "code",
   "execution_count": 5,
   "metadata": {},
   "outputs": [
    {
     "data": {
      "text/html": [
       "<div>\n",
       "<style scoped>\n",
       "    .dataframe tbody tr th:only-of-type {\n",
       "        vertical-align: middle;\n",
       "    }\n",
       "\n",
       "    .dataframe tbody tr th {\n",
       "        vertical-align: top;\n",
       "    }\n",
       "\n",
       "    .dataframe thead th {\n",
       "        text-align: right;\n",
       "    }\n",
       "</style>\n",
       "<table border=\"1\" class=\"dataframe\">\n",
       "  <thead>\n",
       "    <tr style=\"text-align: right;\">\n",
       "      <th></th>\n",
       "      <th>cultivate</th>\n",
       "      <th>kilograms</th>\n",
       "      <th>group</th>\n",
       "      <th>subgroup</th>\n",
       "      <th>year</th>\n",
       "    </tr>\n",
       "  </thead>\n",
       "  <tbody>\n",
       "    <tr>\n",
       "      <th>1</th>\n",
       "      <td>alicante_bouschet</td>\n",
       "      <td>0.0</td>\n",
       "      <td>tintas</td>\n",
       "      <td>viniferas</td>\n",
       "      <td>1970</td>\n",
       "    </tr>\n",
       "    <tr>\n",
       "      <th>2</th>\n",
       "      <td>ancelota</td>\n",
       "      <td>0.0</td>\n",
       "      <td>tintas</td>\n",
       "      <td>viniferas</td>\n",
       "      <td>1970</td>\n",
       "    </tr>\n",
       "    <tr>\n",
       "      <th>3</th>\n",
       "      <td>aramon</td>\n",
       "      <td>0.0</td>\n",
       "      <td>tintas</td>\n",
       "      <td>viniferas</td>\n",
       "      <td>1970</td>\n",
       "    </tr>\n",
       "    <tr>\n",
       "      <th>4</th>\n",
       "      <td>alfrocheiro</td>\n",
       "      <td>0.0</td>\n",
       "      <td>tintas</td>\n",
       "      <td>viniferas</td>\n",
       "      <td>1970</td>\n",
       "    </tr>\n",
       "    <tr>\n",
       "      <th>5</th>\n",
       "      <td>arinarnoa</td>\n",
       "      <td>0.0</td>\n",
       "      <td>tintas</td>\n",
       "      <td>viniferas</td>\n",
       "      <td>1970</td>\n",
       "    </tr>\n",
       "  </tbody>\n",
       "</table>\n",
       "</div>"
      ],
      "text/plain": [
       "           cultivate  kilograms   group   subgroup  year\n",
       "1  alicante_bouschet        0.0  tintas  viniferas  1970\n",
       "2           ancelota        0.0  tintas  viniferas  1970\n",
       "3             aramon        0.0  tintas  viniferas  1970\n",
       "4        alfrocheiro        0.0  tintas  viniferas  1970\n",
       "5          arinarnoa        0.0  tintas  viniferas  1970"
      ]
     },
     "execution_count": 5,
     "metadata": {},
     "output_type": "execute_result"
    }
   ],
   "source": [
    "df2=ebp.get_processamento_df()\n",
    "df2.head(5)"
   ]
  },
  {
   "cell_type": "code",
   "execution_count": 13,
   "metadata": {},
   "outputs": [
    {
     "data": {
      "text/plain": [
       "array(['alicante_bouschet', 'ancelota', 'aramon', 'alfrocheiro',\n",
       "       'arinarnoa', 'aspirant_bouschet', 'barbera', 'bonarda',\n",
       "       'cabernet_franc', 'cabernet_sauvignon', 'caladoc', 'campanario',\n",
       "       'canaiolo', 'carignan', 'carmenere', 'castelao', 'corvina',\n",
       "       'croatina', 'cinsaut', 'dom_felder', 'dolcetto', 'durif',\n",
       "       'egiodola', 'ekigaina', 'festival_sugraone', 'franconia', 'freisa',\n",
       "       'gamay_st_romain', 'gamay_beaujolais', 'grand_noir', 'grenache',\n",
       "       'jaen', 'lagrein', 'lambrusco', 'malbec', 'marzemina', 'merlot',\n",
       "       'marselan', 'mistura_de_uvas_viniferas_tinto', 'molinera',\n",
       "       'montepulciano', 'moscato_bailey', 'napa_gamay', 'nebbiolo',\n",
       "       'petit_verdot', 'petite_sirah', 'pinotage', 'pinot_noir',\n",
       "       'pinot_saint_george', 'piriquita', 'primitivo', 'rebo', 'refosco',\n",
       "       'rondinella', 'ruby_cabernet', 'sangiovese', 'saperavi',\n",
       "       'sira_falsa', 'tannat', 'tempranillo', 'teroldego', 'torrontes',\n",
       "       'tinta_barroca', 'tinta_roriz', 'touriga_francesa',\n",
       "       'touriga_nacional', 'tinta_madeira', 'tintoria', 'trincdeira',\n",
       "       'trousseau', 'zinfandel', 'outras1', 'aliatico', 'aligote',\n",
       "       'altesse', 'alvarinho', 'arriloba', 'auxerrois', 'burger',\n",
       "       'chardonnay', 'chasselas', 'chenin_blanc', 'clairette1',\n",
       "       'colombard', 'flora', 'garganega', 'gewurztraminer', 'gouveio',\n",
       "       'gros_manseng', 'italia_pirovano_65_pe', 'maccabeo', 'malvasia',\n",
       "       'malvasia_amarela', 'malvasia_bianca', 'malvasia_chianti',\n",
       "       'malvasia_verde', 'malvasia_di_candia', 'malvasia_istriana',\n",
       "       'mistura_de_uvas_viniferas_branco',\n",
       "       'mistura_de_uvas_viniferas_rosado', 'moscato_branco',\n",
       "       'moscato_canelli', 'moscato_giallo', 'moscato_nazareno',\n",
       "       'moscato_bianco_r2', 'moscato_de_alexandria', 'moscato_rosado',\n",
       "       'muscat_a_petits_grains', 'muller_thurgau', 'muscadelle', 'ora',\n",
       "       'palomino', 'petit_manseng', 'peverella', 'pinot_blanc',\n",
       "       'pinot_gris', 'prosecco', 'red_veltliner', 'riesling_italico',\n",
       "       'riesling_renano', 'sauvignon_blanc2', 'sauvignon_gris',\n",
       "       'seara_nova', 'semillon', 'schonburger', 'sylvaner',\n",
       "       'tocai_friulano', 'trebbiano', 'trebbiano_toscano', 'verdea',\n",
       "       'verdelho', 'verdiso', 'vermentino', 'vernaccia', 'viogner',\n",
       "       'viognier', 'outras3', 'bacarina', 'bailey', 'bordo', 'bourdin_s',\n",
       "       'brs_carmen', 'brs_cora', 'brs_magna', 'brs_margot', 'brs_morena',\n",
       "       'brs_nubia', 'brs_rubea', 'brs_violeta', 'brs_vitoria',\n",
       "       'champagnon_champanheta', 'colecoes', 'concord',\n",
       "       'concord_clone_30', 'couderc', 'cynthiana1', 'herbemont', 'isabel',\n",
       "       'isabel_precoce', 'jacquez', 'kyoko', 'landot',\n",
       "       'mistura_de_uvas_americanas_tinto', 'oberlin', 'othello', 'paco',\n",
       "       'patricia', 'seibel', 'seibel_2_seibeleto', 'seyve_willard_tinta',\n",
       "       'venus', 'baco', 'bokay', 'brs_bibiana', 'brs_clara', 'brs_lorena',\n",
       "       'couderc_13', 'delaware', 'dona_zilla', 'dut_chess', 'goethe',\n",
       "       'juliana', 'martha', 'mistura_de_uvas_americanas',\n",
       "       'moscato_embrapa', 'niagara', 'niagara_branca', 'niagara_rosada',\n",
       "       'poloske', 'selecoes', 'seyve_villard', 'seyve_villard_5276',\n",
       "       'seyve_villard_12375', 'tardia_de_caxias', 'outras2',\n",
       "       'alphonse_lavallee', 'moscato_de_hamburgo', 'cardinal',\n",
       "       'golden_queen', 'perlona', 'italia', 'rubi_italia_italia_ro'],\n",
       "      dtype=object)"
      ]
     },
     "execution_count": 13,
     "metadata": {},
     "output_type": "execute_result"
    }
   ],
   "source": [
    "df2['cultivate'].unique()"
   ]
  },
  {
   "cell_type": "code",
   "execution_count": 14,
   "metadata": {},
   "outputs": [
    {
     "data": {
      "text/plain": [
       "array(['tintas', 'brancas_e_rosadas', 'iac_138022', 'iac', 'brancas'],\n",
       "      dtype=object)"
      ]
     },
     "execution_count": 14,
     "metadata": {},
     "output_type": "execute_result"
    }
   ],
   "source": [
    "df2['group'].unique()"
   ]
  },
  {
   "cell_type": "code",
   "execution_count": 15,
   "metadata": {},
   "outputs": [
    {
     "data": {
      "text/plain": [
       "array(['viniferas', 'americanas_e_hibridas', 'uvas_de_mesa'], dtype=object)"
      ]
     },
     "execution_count": 15,
     "metadata": {},
     "output_type": "execute_result"
    }
   ],
   "source": [
    "df2['subgroup'].unique()"
   ]
  },
  {
   "cell_type": "markdown",
   "metadata": {},
   "source": [
    "### Comercialização"
   ]
  },
  {
   "cell_type": "code",
   "execution_count": 6,
   "metadata": {},
   "outputs": [
    {
     "data": {
      "text/html": [
       "<div>\n",
       "<style scoped>\n",
       "    .dataframe tbody tr th:only-of-type {\n",
       "        vertical-align: middle;\n",
       "    }\n",
       "\n",
       "    .dataframe tbody tr th {\n",
       "        vertical-align: top;\n",
       "    }\n",
       "\n",
       "    .dataframe thead th {\n",
       "        text-align: right;\n",
       "    }\n",
       "</style>\n",
       "<table border=\"1\" class=\"dataframe\">\n",
       "  <thead>\n",
       "    <tr style=\"text-align: right;\">\n",
       "      <th></th>\n",
       "      <th>product</th>\n",
       "      <th>liters</th>\n",
       "      <th>group</th>\n",
       "      <th>year</th>\n",
       "    </tr>\n",
       "  </thead>\n",
       "  <tbody>\n",
       "    <tr>\n",
       "      <th>1</th>\n",
       "      <td>tinto</td>\n",
       "      <td>83300735.0</td>\n",
       "      <td>vinho_de_mesa</td>\n",
       "      <td>1970</td>\n",
       "    </tr>\n",
       "    <tr>\n",
       "      <th>2</th>\n",
       "      <td>rosado</td>\n",
       "      <td>107681.0</td>\n",
       "      <td>vinho_de_mesa</td>\n",
       "      <td>1970</td>\n",
       "    </tr>\n",
       "    <tr>\n",
       "      <th>3</th>\n",
       "      <td>branco</td>\n",
       "      <td>14919190.0</td>\n",
       "      <td>vinho_de_mesa</td>\n",
       "      <td>1970</td>\n",
       "    </tr>\n",
       "    <tr>\n",
       "      <th>5</th>\n",
       "      <td>tinto</td>\n",
       "      <td>435354.0</td>\n",
       "      <td>vinho_fino_de_mesa</td>\n",
       "      <td>1970</td>\n",
       "    </tr>\n",
       "    <tr>\n",
       "      <th>6</th>\n",
       "      <td>rosado</td>\n",
       "      <td>183234.0</td>\n",
       "      <td>vinho_fino_de_mesa</td>\n",
       "      <td>1970</td>\n",
       "    </tr>\n",
       "  </tbody>\n",
       "</table>\n",
       "</div>"
      ],
      "text/plain": [
       "  product      liters               group  year\n",
       "1   tinto  83300735.0       vinho_de_mesa  1970\n",
       "2  rosado    107681.0       vinho_de_mesa  1970\n",
       "3  branco  14919190.0       vinho_de_mesa  1970\n",
       "5   tinto    435354.0  vinho_fino_de_mesa  1970\n",
       "6  rosado    183234.0  vinho_fino_de_mesa  1970"
      ]
     },
     "execution_count": 6,
     "metadata": {},
     "output_type": "execute_result"
    }
   ],
   "source": [
    "df3=ebp.get_comercializacao_df()\n",
    "df3.head(5)"
   ]
  },
  {
   "cell_type": "code",
   "execution_count": 16,
   "metadata": {},
   "outputs": [
    {
     "data": {
      "text/plain": [
       "array(['tinto', 'rosado', 'branco', 'espumante_moscatel', 'espumante',\n",
       "       'espumante_organico', 'suco_natural_integral', 'suco_adocado',\n",
       "       'suco_reprocessado/reconstituido', 'suco_organico',\n",
       "       'outros_sucos_de_uvas', 'outros_vinhos_sem_informacao_detalhada',\n",
       "       'agrin_fermentado_acetico_misto', 'aguardente_de_vinho_50deggl',\n",
       "       'alcool_vinico', 'bagaceira_graspa', 'base_champenoise_champanha',\n",
       "       'base_charmat_champanha', 'base_espumante_moscatel',\n",
       "       'bebida_de_uva', 'borra_liquida', 'borra_seca', 'brandy_conhaque',\n",
       "       'cooler', 'coquetel_com_vinho', 'destilado_de_vinho',\n",
       "       'filtrado_doce', 'jeropiga', 'mistelas', 'mosto_concentrado',\n",
       "       'mosto_de_uva', 'mosto_sulfitado', 'nectar_de_uva',\n",
       "       'outros_produtos', 'polpa_de_uva',\n",
       "       'preparado_liquido_para_refresco', 'refrigerante_+50%_suco',\n",
       "       'sangria', 'vinagre_balsamico', 'vinagre_duplo', 'vinagre_simples',\n",
       "       'vinho_acetificado', 'vinho_base_para_espumantes',\n",
       "       'vinho_composto', 'vinho_licoroso', 'vinho_leve',\n",
       "       'vinho_gaseificado'], dtype=object)"
      ]
     },
     "execution_count": 16,
     "metadata": {},
     "output_type": "execute_result"
    }
   ],
   "source": [
    "df3['product'].unique()"
   ]
  },
  {
   "cell_type": "code",
   "execution_count": 17,
   "metadata": {},
   "outputs": [
    {
     "data": {
      "text/plain": [
       "array(['vinho_de_mesa', 'vinho_fino_de_mesa', 'vinho_especial',\n",
       "       'espumantes', 'suco_de_uvas', 'outros_produtos_comercializados'],\n",
       "      dtype=object)"
      ]
     },
     "execution_count": 17,
     "metadata": {},
     "output_type": "execute_result"
    }
   ],
   "source": [
    "df3['group'].unique()"
   ]
  },
  {
   "cell_type": "markdown",
   "metadata": {},
   "source": [
    "### Importação"
   ]
  },
  {
   "cell_type": "code",
   "execution_count": 7,
   "metadata": {},
   "outputs": [
    {
     "data": {
      "text/html": [
       "<div>\n",
       "<style scoped>\n",
       "    .dataframe tbody tr th:only-of-type {\n",
       "        vertical-align: middle;\n",
       "    }\n",
       "\n",
       "    .dataframe tbody tr th {\n",
       "        vertical-align: top;\n",
       "    }\n",
       "\n",
       "    .dataframe thead th {\n",
       "        text-align: right;\n",
       "    }\n",
       "</style>\n",
       "<table border=\"1\" class=\"dataframe\">\n",
       "  <thead>\n",
       "    <tr style=\"text-align: right;\">\n",
       "      <th></th>\n",
       "      <th>country</th>\n",
       "      <th>kilograms</th>\n",
       "      <th>dollars</th>\n",
       "      <th>subgroup</th>\n",
       "      <th>year</th>\n",
       "    </tr>\n",
       "  </thead>\n",
       "  <tbody>\n",
       "    <tr>\n",
       "      <th>0</th>\n",
       "      <td>africa_do_sul</td>\n",
       "      <td>0.0</td>\n",
       "      <td>0.0</td>\n",
       "      <td>vinhos_de_mesa</td>\n",
       "      <td>1970</td>\n",
       "    </tr>\n",
       "    <tr>\n",
       "      <th>1</th>\n",
       "      <td>alemanha</td>\n",
       "      <td>52297.0</td>\n",
       "      <td>30498.0</td>\n",
       "      <td>vinhos_de_mesa</td>\n",
       "      <td>1970</td>\n",
       "    </tr>\n",
       "    <tr>\n",
       "      <th>2</th>\n",
       "      <td>argelia</td>\n",
       "      <td>0.0</td>\n",
       "      <td>0.0</td>\n",
       "      <td>vinhos_de_mesa</td>\n",
       "      <td>1970</td>\n",
       "    </tr>\n",
       "    <tr>\n",
       "      <th>3</th>\n",
       "      <td>arabia_saudita</td>\n",
       "      <td>0.0</td>\n",
       "      <td>0.0</td>\n",
       "      <td>vinhos_de_mesa</td>\n",
       "      <td>1970</td>\n",
       "    </tr>\n",
       "    <tr>\n",
       "      <th>4</th>\n",
       "      <td>argentina</td>\n",
       "      <td>19525.0</td>\n",
       "      <td>12260.0</td>\n",
       "      <td>vinhos_de_mesa</td>\n",
       "      <td>1970</td>\n",
       "    </tr>\n",
       "  </tbody>\n",
       "</table>\n",
       "</div>"
      ],
      "text/plain": [
       "          country  kilograms  dollars        subgroup  year\n",
       "0   africa_do_sul        0.0      0.0  vinhos_de_mesa  1970\n",
       "1        alemanha    52297.0  30498.0  vinhos_de_mesa  1970\n",
       "2         argelia        0.0      0.0  vinhos_de_mesa  1970\n",
       "3  arabia_saudita        0.0      0.0  vinhos_de_mesa  1970\n",
       "4       argentina    19525.0  12260.0  vinhos_de_mesa  1970"
      ]
     },
     "execution_count": 7,
     "metadata": {},
     "output_type": "execute_result"
    }
   ],
   "source": [
    "df4=ebp.get_importacao_df()\n",
    "df4.head(5)"
   ]
  },
  {
   "cell_type": "code",
   "execution_count": 18,
   "metadata": {},
   "outputs": [
    {
     "data": {
      "text/plain": [
       "array(['africa_do_sul', 'alemanha', 'argelia', 'arabia_saudita',\n",
       "       'argentina', 'armenia', 'australia', 'austria', 'bermudas',\n",
       "       'belgica', 'bolivia', 'bosnia-herzegovina', 'brasil', 'bulgaria',\n",
       "       'canada', 'chile', 'china', 'coreia_do_sul_republica', 'croacia',\n",
       "       'cuba', 'emirados_arabes_unidos', 'eslovenia', 'eslovaquia',\n",
       "       'espanha', 'estados_unidos', 'franca', 'georgia',\n",
       "       'georgia_do_sul_e_sandwich_do_sul_ilhas', 'grecia', 'hong_kong',\n",
       "       'hungria', 'indonesia', 'irlanda', 'israel', 'italia', 'japao',\n",
       "       'iugoslavia', 'libano', 'luxemburgo', 'macedonia', 'marrocos',\n",
       "       'mexico', 'moldavia', 'montenegro', 'noruega', 'nova_zelandia',\n",
       "       'paises_baixos_holanda', 'panama', 'peru', 'porto_rico',\n",
       "       'portugal', 'reino_unido', 'republica_dominicana', 'romenia',\n",
       "       'russia', 'san_marino', 'servia', 'siria', 'suazilandia', 'suica',\n",
       "       'tcheca_republica', 'tunisia', 'turquia', 'ucrania', 'uruguai',\n",
       "       'nao_consta_na_tabela', 'nao_declarados', 'outros', 'bahamas',\n",
       "       'granada', 'paises_baixos', 'colombia', 'egito', 'paraguai',\n",
       "       'venezuela', 'afeganistao', 'alemanha_republica_democratica',\n",
       "       'china_continental', 'cingapura', 'costa_rica', 'emirados',\n",
       "       'guiana_britanica', 'india', 'ira', 'suecia', 'uzbequistao',\n",
       "       'coreia_do_norte_republica', 'dinamarca', 'guiana', 'taiwan'],\n",
       "      dtype=object)"
      ]
     },
     "execution_count": 18,
     "metadata": {},
     "output_type": "execute_result"
    }
   ],
   "source": [
    "df4['country'].unique()"
   ]
  },
  {
   "cell_type": "code",
   "execution_count": 19,
   "metadata": {},
   "outputs": [
    {
     "data": {
      "text/plain": [
       "array(['vinhos_de_mesa', 'espumantes', 'uvas_frescas', 'uvas_passas',\n",
       "       'suco_de_uva'], dtype=object)"
      ]
     },
     "execution_count": 19,
     "metadata": {},
     "output_type": "execute_result"
    }
   ],
   "source": [
    "df4['subgroup'].unique()"
   ]
  },
  {
   "cell_type": "markdown",
   "metadata": {},
   "source": [
    "### Exportação"
   ]
  },
  {
   "cell_type": "code",
   "execution_count": 8,
   "metadata": {},
   "outputs": [
    {
     "data": {
      "text/html": [
       "<div>\n",
       "<style scoped>\n",
       "    .dataframe tbody tr th:only-of-type {\n",
       "        vertical-align: middle;\n",
       "    }\n",
       "\n",
       "    .dataframe tbody tr th {\n",
       "        vertical-align: top;\n",
       "    }\n",
       "\n",
       "    .dataframe thead th {\n",
       "        text-align: right;\n",
       "    }\n",
       "</style>\n",
       "<table border=\"1\" class=\"dataframe\">\n",
       "  <thead>\n",
       "    <tr style=\"text-align: right;\">\n",
       "      <th></th>\n",
       "      <th>country</th>\n",
       "      <th>kilograms</th>\n",
       "      <th>dollars</th>\n",
       "      <th>subgroup</th>\n",
       "      <th>year</th>\n",
       "    </tr>\n",
       "  </thead>\n",
       "  <tbody>\n",
       "    <tr>\n",
       "      <th>0</th>\n",
       "      <td>afeganistao</td>\n",
       "      <td>0.0</td>\n",
       "      <td>0.0</td>\n",
       "      <td>vinhos_de_mesa</td>\n",
       "      <td>1970</td>\n",
       "    </tr>\n",
       "    <tr>\n",
       "      <th>1</th>\n",
       "      <td>africa_do_sul</td>\n",
       "      <td>0.0</td>\n",
       "      <td>0.0</td>\n",
       "      <td>vinhos_de_mesa</td>\n",
       "      <td>1970</td>\n",
       "    </tr>\n",
       "    <tr>\n",
       "      <th>2</th>\n",
       "      <td>alemanha_republica_democratica</td>\n",
       "      <td>0.0</td>\n",
       "      <td>0.0</td>\n",
       "      <td>vinhos_de_mesa</td>\n",
       "      <td>1970</td>\n",
       "    </tr>\n",
       "    <tr>\n",
       "      <th>3</th>\n",
       "      <td>angola</td>\n",
       "      <td>0.0</td>\n",
       "      <td>0.0</td>\n",
       "      <td>vinhos_de_mesa</td>\n",
       "      <td>1970</td>\n",
       "    </tr>\n",
       "    <tr>\n",
       "      <th>4</th>\n",
       "      <td>anguilla</td>\n",
       "      <td>0.0</td>\n",
       "      <td>0.0</td>\n",
       "      <td>vinhos_de_mesa</td>\n",
       "      <td>1970</td>\n",
       "    </tr>\n",
       "  </tbody>\n",
       "</table>\n",
       "</div>"
      ],
      "text/plain": [
       "                          country  kilograms  dollars        subgroup  year\n",
       "0                     afeganistao        0.0      0.0  vinhos_de_mesa  1970\n",
       "1                   africa_do_sul        0.0      0.0  vinhos_de_mesa  1970\n",
       "2  alemanha_republica_democratica        0.0      0.0  vinhos_de_mesa  1970\n",
       "3                          angola        0.0      0.0  vinhos_de_mesa  1970\n",
       "4                        anguilla        0.0      0.0  vinhos_de_mesa  1970"
      ]
     },
     "execution_count": 8,
     "metadata": {},
     "output_type": "execute_result"
    }
   ],
   "source": [
    "df5=ebp.get_exportacao_df()\n",
    "df5.head(5)"
   ]
  },
  {
   "cell_type": "code",
   "execution_count": 20,
   "metadata": {},
   "outputs": [
    {
     "data": {
      "text/plain": [
       "array(['afeganistao', 'africa_do_sul', 'alemanha_republica_democratica',\n",
       "       'angola', 'anguilla', 'antigua_e_barbuda', 'antilhas_holandesas',\n",
       "       'arabia_saudita', 'argentina', 'aruba', 'australia', 'austria',\n",
       "       'bahamas', 'bangladesh', 'barbados', 'barein', 'belgica', 'belice',\n",
       "       'benin', 'bermudas', 'bolivia', 'bosnia-herzegovina', 'brasil',\n",
       "       'bulgaria', 'cabo_verde', 'camaroes', 'canada', 'catar',\n",
       "       'cayman_ilhas', 'chile', 'china', 'chipre', 'cingapura',\n",
       "       'cocos_keeling_ilhas', 'colombia', 'comores', 'congo',\n",
       "       'coreia_republica_sul', 'costa_do_marfim', 'costa_rica', 'croacia',\n",
       "       'cuba', 'curacao', 'dinamarca', 'dominica', 'el_salvador',\n",
       "       'emirados_arabes_unidos', 'equador', 'eslovaca_republica',\n",
       "       'espanha', 'estados_unidos', 'estonia', 'filipinas', 'finlandia',\n",
       "       'franca', 'gana', 'gibraltar', 'granada', 'grecia', 'guatemala',\n",
       "       'guiana', 'guiana_francesa', 'guine_bissau', 'guine_equatorial',\n",
       "       'haiti', 'honduras', 'hong_kong', 'hungria', 'ilha_de_man',\n",
       "       'ilhas_virgens', 'india', 'indonesia', 'ira', 'iraque', 'irlanda',\n",
       "       'italia', 'jamaica', 'japao', 'jordania', 'letonia', 'libano',\n",
       "       'liberia', 'luxemburgo', 'macau', 'malasia', 'malavi', 'malta',\n",
       "       'marshall_ilhas', 'martinica', 'mauritania', 'mexico',\n",
       "       'mocambique', 'montenegro', 'namibia', 'nicaragua', 'nigeria',\n",
       "       'noruega', 'nova_caledonia', 'nova_zelandia', 'oma',\n",
       "       'paises_baixos', 'palau', 'panama', 'paraguai', 'peru', 'pitcairn',\n",
       "       'polonia', 'porto_rico', 'portugal', 'quenia', 'reino_unido',\n",
       "       'republica_dominicana', 'russia', 'sao_cristovao_e_nevis',\n",
       "       'sao_tome_e_principe', 'sao_vicente_e_granadinas', 'senegal',\n",
       "       'serra_leoa', 'singapura', 'suazilandia', 'suecia', 'suica',\n",
       "       'suriname', 'tailandia', 'taiwan_formosa', 'tanzania',\n",
       "       'tcheca_republica', 'togo', 'toquelau', 'trinidade_tobago',\n",
       "       'tunisia', 'turquia', 'tuvalu', 'uruguai', 'vanuatu', 'venezuela',\n",
       "       'vietna', 'alemanha', 'coreia_do_sul_republica_da',\n",
       "       'falkland_malvinas', 'filanldia', 'guine-bissau', 'islandia',\n",
       "       'maldivas', 'paises_baixos_holanda', 'republica_tcheca',\n",
       "       'trinidade_e_tobago', 'outros1', 'argelia', 'bahrein', 'belize',\n",
       "       'bosnia', 'burquina_faso', 'camores', 'cook_ilhas',\n",
       "       'coreia_do_norte', 'coreia_do_sul', 'coveite', 'djibuti', 'egito',\n",
       "       'eslovenia', 'falkland_ilhas_malvinas', 'faroe_ilhas', 'gabao',\n",
       "       'georgia', 'guadalupe', 'jersei', 'libia', 'lituania', 'macedonia',\n",
       "       'marrocos', 'mauricio', 'monaco', 'mongolia', 'paquistao',\n",
       "       'quirguistao', 'romenia', 'russia_federacao_da', 'samoa_americana',\n",
       "       'sri_lanka', 'taiwan', 'trindade_e_tobago',\n",
       "       'turcas_e_caicos_ilhas', 'provisao_de_navios_e_aeronaves',\n",
       "       'alemanha_republica_democratica_da', 'birmania',\n",
       "       'dominica_ilha_de', 'israel', 'iugoslavia',\n",
       "       'republica_centro_africana', 'republica_federativa_da_russia'],\n",
       "      dtype=object)"
      ]
     },
     "execution_count": 20,
     "metadata": {},
     "output_type": "execute_result"
    }
   ],
   "source": [
    "df5['country'].unique()"
   ]
  },
  {
   "cell_type": "code",
   "execution_count": 21,
   "metadata": {},
   "outputs": [
    {
     "data": {
      "text/plain": [
       "array(['vinhos_de_mesa', 'espumantes', 'uvas_frescas', 'suco_de_uva'],\n",
       "      dtype=object)"
      ]
     },
     "execution_count": 21,
     "metadata": {},
     "output_type": "execute_result"
    }
   ],
   "source": [
    "df5['subgroup'].unique()"
   ]
  }
 ],
 "metadata": {
  "kernelspec": {
   "display_name": ".venv",
   "language": "python",
   "name": "python3"
  },
  "language_info": {
   "codemirror_mode": {
    "name": "ipython",
    "version": 3
   },
   "file_extension": ".py",
   "mimetype": "text/x-python",
   "name": "python",
   "nbconvert_exporter": "python",
   "pygments_lexer": "ipython3",
   "version": "3.12.2"
  }
 },
 "nbformat": 4,
 "nbformat_minor": 2
}
